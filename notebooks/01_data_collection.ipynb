{
 "cells": [
  {
   "cell_type": "markdown",
   "id": "79518bc6",
   "metadata": {},
   "source": [
    "Imports"
   ]
  },
  {
   "cell_type": "code",
   "execution_count": 22,
   "id": "3ae40ebb",
   "metadata": {},
   "outputs": [],
   "source": [
    "import requests\n",
    "import pandas as pd\n",
    "import sqlite3\n",
    "import os\n"
   ]
  },
  {
   "cell_type": "markdown",
   "id": "ad1bc8b5",
   "metadata": {},
   "source": [
    "Function"
   ]
  },
  {
   "cell_type": "code",
   "execution_count": 23,
   "id": "396d331b",
   "metadata": {},
   "outputs": [],
   "source": [
    "def get_temperature_data(city_name, latitude, longitude, year):\n",
    "    url = (\n",
    "        f\"https://archive-api.open-meteo.com/v1/archive\"\n",
    "        f\"?latitude={latitude}\"\n",
    "        f\"&longitude={longitude}\"\n",
    "        f\"&start_date={year}-01-01\"\n",
    "        f\"&end_date={year}-12-31\"\n",
    "        f\"&daily=temperature_2m_max\"\n",
    "        f\"&timezone=Europe%2FBerlin\"\n",
    "    )\n",
    "    response = requests.get(url)\n",
    "    if response.status_code == 200:\n",
    "        data = response.json()\n",
    "        dates = data['daily']['time']\n",
    "        temps = data['daily']['temperature_2m_max']\n",
    "        return {\n",
    "            \"city\": city_name,\n",
    "            \"year\": year,\n",
    "            \"dates\": dates,\n",
    "            \"temperatures\": temps\n",
    "        }\n",
    "    else:\n",
    "        print(\"Failed to retrieve data:\", response.status_code)\n",
    "        return None\n"
   ]
  },
  {
   "cell_type": "markdown",
   "id": "4e120b49",
   "metadata": {},
   "source": [
    "Define Cities and Years"
   ]
  },
  {
   "cell_type": "code",
   "execution_count": 24,
   "id": "3b34cb9c",
   "metadata": {},
   "outputs": [],
   "source": [
    "cities = [\n",
    "    {\"name\": \"Zurich\", \"lat\": 47.37, \"lon\": 8.55},\n",
    "    {\"name\": \"Geneva\", \"lat\": 46.20, \"lon\": 6.15},\n",
    "    {\"name\": \"Bern\", \"lat\": 46.95, \"lon\": 7.44},\n",
    "    {\"name\": \"Berlin\", \"lat\": 52.52, \"lon\": 13.41},\n",
    "    {\"name\": \"Rome\", \"lat\": 41.89, \"lon\": 12.49},\n",
    "    {\"name\": \"London\", \"lat\": 51.51, \"lon\": -0.13}\n",
    "]\n",
    "years = list(range(2014, 2024))"
   ]
  },
  {
   "cell_type": "markdown",
   "id": "217c2748",
   "metadata": {},
   "source": [
    "Collect and Aggregate Data"
   ]
  },
  {
   "cell_type": "code",
   "execution_count": 25,
   "id": "dcbc2d81",
   "metadata": {},
   "outputs": [],
   "source": [
    "records = []\n",
    "\n",
    "for city in cities:\n",
    "    for year in years:\n",
    "        result = get_temperature_data(city[\"name\"], city[\"lat\"], city[\"lon\"], year)\n",
    "        if result:\n",
    "            avg_temp = sum(result[\"temperatures\"]) / len(result[\"temperatures\"])\n",
    "            records.append({\n",
    "                \"City\": result[\"city\"],\n",
    "                \"Year\": result[\"year\"],\n",
    "                \"AvgMaxTemp\": round(avg_temp, 2)\n",
    "            })\n"
   ]
  },
  {
   "cell_type": "markdown",
   "id": "0907f3cf",
   "metadata": {},
   "source": [
    "SQLite"
   ]
  },
  {
   "cell_type": "code",
   "execution_count": 26,
   "id": "ca0378e7",
   "metadata": {},
   "outputs": [
    {
     "name": "stdout",
     "output_type": "stream",
     "text": [
      "     City  Year  AvgMaxTemp\n",
      "0  Zurich  2014       14.83\n",
      "1  Zurich  2015       14.78\n",
      "2  Zurich  2016       13.97\n",
      "3  Zurich  2017       14.46\n",
      "4  Zurich  2018       15.89\n"
     ]
    }
   ],
   "source": [
    "df = pd.DataFrame(records)\n",
    "print(df.head())  # sanity check\n",
    "\n",
    "# Save to SQLite\n",
    "conn = sqlite3.connect(\"../climate_data.db\")\n",
    "df.to_sql(\"avg_temperatures\", conn, if_exists=\"replace\", index=False)\n",
    "conn.close()\n"
   ]
  }
 ],
 "metadata": {
  "kernelspec": {
   "display_name": "Python 3",
   "language": "python",
   "name": "python3"
  },
  "language_info": {
   "codemirror_mode": {
    "name": "ipython",
    "version": 3
   },
   "file_extension": ".py",
   "mimetype": "text/x-python",
   "name": "python",
   "nbconvert_exporter": "python",
   "pygments_lexer": "ipython3",
   "version": "3.12.1"
  }
 },
 "nbformat": 4,
 "nbformat_minor": 5
}
