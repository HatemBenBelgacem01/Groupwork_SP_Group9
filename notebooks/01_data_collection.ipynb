{
 "cells": [
  {
   "cell_type": "markdown",
   "id": "79518bc6",
   "metadata": {},
   "source": [
    "Imports"
   ]
  },
  {
   "cell_type": "code",
   "execution_count": 16,
   "id": "3ae40ebb",
   "metadata": {},
   "outputs": [],
   "source": [
    "import requests\n",
    "import pandas as pd\n",
    "import sqlite3\n",
    "import os\n"
   ]
  },
  {
   "cell_type": "markdown",
   "id": "ad1bc8b5",
   "metadata": {},
   "source": [
    "Function"
   ]
  },
  {
   "cell_type": "code",
   "execution_count": null,
   "id": "396d331b",
   "metadata": {},
   "outputs": [],
   "source": [
    "def get_temperature_data(city_name, latitude, longitude, year):\n",
    "    url = (\n",
    "        f\"https://archive-api.open-meteo.com/v1/archive\"\n",
    "        f\"?latitude={latitude}\"\n",
    "        f\"&longitude={longitude}\"\n",
    "        f\"&start_date={year}-01-01\"\n",
    "        f\"&end_date={year}-12-31\"\n",
    "        f\"&daily=temperature_2m_max\"\n",
    "        f\"&timezone=Europe%2FBerlin\"\n",
    "    )\n",
    "    response = requests.get(url)\n",
    "    if response.status_code == 200:\n",
    "        data = response.json()\n",
    "        dates = data['daily']['time']\n",
    "        temps = data['daily']['temperature_2m_max']\n",
    "        return {\n",
    "            \"city\": city_name,\n",
    "            \"year\": year,\n",
    "            \"dates\": dates,\n",
    "            \"temperatures\": temps\n",
    "        }\n",
    "    else:\n",
    "        print(\"Failed to retrieve data:\", response.status_code)\n",
    "        return None\n"
   ]
  },
  {
   "cell_type": "markdown",
   "id": "4e120b49",
   "metadata": {},
   "source": [
    "Define Cities and Years"
   ]
  },
  {
   "cell_type": "code",
   "execution_count": 28,
   "id": "3b34cb9c",
   "metadata": {},
   "outputs": [],
   "source": [
    "cities = [\n",
    "    {\"name\": \"Zurich\", \"lat\": 47.37, \"lon\": 8.55},\n",
    "    {\"name\": \"Rome\", \"lat\": 41.89, \"lon\": 12.49},\n",
    "    {\"name\": \"London\", \"lat\": 51.51, \"lon\": -0.13}\n",
    "]\n",
    "years = list(range(2014, 2019))"
   ]
  },
  {
   "cell_type": "markdown",
   "id": "0100b58c",
   "metadata": {},
   "source": [
    "Fetch data from API and save locally to avoid API spamming"
   ]
  },
  {
   "cell_type": "code",
   "execution_count": 30,
   "id": "d8d82b43",
   "metadata": {},
   "outputs": [
    {
     "name": "stdout",
     "output_type": "stream",
     "text": [
      "Loading cached data for Zurich 2014\n",
      "Loading cached data for Zurich 2015\n",
      "Loading cached data for Zurich 2016\n",
      "Loading cached data for Zurich 2017\n",
      "Loading cached data for Zurich 2018\n",
      "Loading cached data for Rome 2014\n",
      "Loading cached data for Rome 2015\n",
      "Loading cached data for Rome 2016\n",
      "Loading cached data for Rome 2017\n",
      "Loading cached data for Rome 2018\n",
      "Fetching data for London 2014\n",
      "Fetching data for London 2015\n",
      "Fetching data for London 2016\n",
      "Fetching data for London 2017\n",
      "Fetching data for London 2018\n"
     ]
    }
   ],
   "source": [
    "import os\n",
    "import json\n",
    "import time\n",
    "\n",
    "records = []\n",
    "\n",
    "# Ensure data folder exists\n",
    "os.makedirs(\"data\", exist_ok=True)\n",
    "\n",
    "for city in cities:\n",
    "    for year in years:\n",
    "        filename = f\"data/{city['name']}_{year}.json\"\n",
    "\n",
    "        # Try to load from cache\n",
    "        if os.path.exists(filename):\n",
    "            print(f\"Loading cached data for {city['name']} {year}\")\n",
    "            with open(filename, \"r\") as f:\n",
    "                result = json.load(f)\n",
    "        else:\n",
    "            print(f\"Fetching data for {city['name']} {year}\")\n",
    "            result = get_temperature_data(city[\"name\"], city[\"lat\"], city[\"lon\"], year)\n",
    "            if result:\n",
    "                with open(filename, \"w\") as f:\n",
    "                    json.dump(result, f)\n",
    "            time.sleep(1.2)  # avoid API spamming\n",
    "\n",
    "        if result:\n",
    "            avg_temp = sum(result[\"temperatures\"]) / len(result[\"temperatures\"])\n",
    "            records.append({\n",
    "                \"City\": result[\"city\"],\n",
    "                \"Year\": result[\"year\"],\n",
    "                \"AvgMaxTemp\": round(avg_temp, 2)\n",
    "            })\n"
   ]
  },
  {
   "cell_type": "markdown",
   "id": "217c2748",
   "metadata": {},
   "source": [
    "Collect and Aggregate Data"
   ]
  },
  {
   "cell_type": "code",
   "execution_count": 32,
   "id": "dcbc2d81",
   "metadata": {},
   "outputs": [],
   "source": [
    "import time\n",
    "\n",
    "records = []\n",
    "\n",
    "for city in cities:\n",
    "    for year in years:\n",
    "        result = get_temperature_data(city[\"name\"], city[\"lat\"], city[\"lon\"], year)\n",
    "        if result:\n",
    "            avg_temp = sum(result[\"temperatures\"]) / len(result[\"temperatures\"])\n",
    "            records.append({\n",
    "                \"City\": result[\"city\"],\n",
    "                \"Year\": result[\"year\"],\n",
    "                \"AvgMaxTemp\": round(avg_temp, 2)\n",
    "            })"
   ]
  },
  {
   "cell_type": "markdown",
   "id": "0907f3cf",
   "metadata": {},
   "source": [
    "SQLite"
   ]
  },
  {
   "cell_type": "code",
   "execution_count": 33,
   "id": "ca0378e7",
   "metadata": {},
   "outputs": [
    {
     "name": "stdout",
     "output_type": "stream",
     "text": [
      "     City  Year  AvgMaxTemp\n",
      "0  Zurich  2014       14.83\n",
      "1  Zurich  2015       14.78\n",
      "2  Zurich  2016       13.97\n",
      "3  Zurich  2017       14.46\n",
      "4  Zurich  2018       15.89\n"
     ]
    }
   ],
   "source": [
    "df = pd.DataFrame(records)\n",
    "print(df.head())  # sanity check\n",
    "\n",
    "# Save to SQLite\n",
    "conn = sqlite3.connect(\"../climate_data.db\")\n",
    "df.to_sql(\"avg_temperatures\", conn, if_exists=\"replace\", index=False)\n",
    "conn.close()\n"
   ]
  }
 ],
 "metadata": {
  "kernelspec": {
   "display_name": "Python 3",
   "language": "python",
   "name": "python3"
  },
  "language_info": {
   "codemirror_mode": {
    "name": "ipython",
    "version": 3
   },
   "file_extension": ".py",
   "mimetype": "text/x-python",
   "name": "python",
   "nbconvert_exporter": "python",
   "pygments_lexer": "ipython3",
   "version": "3.12.1"
  }
 },
 "nbformat": 4,
 "nbformat_minor": 5
}
