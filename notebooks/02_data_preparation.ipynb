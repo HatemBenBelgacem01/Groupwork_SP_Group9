{
 "cells": [
  {
   "cell_type": "markdown",
   "id": "46f2190e",
   "metadata": {},
   "source": [
    "Imports and Load data"
   ]
  },
  {
   "cell_type": "code",
   "execution_count": 23,
   "id": "5c2bb8ec",
   "metadata": {},
   "outputs": [
    {
     "name": "stdout",
     "output_type": "stream",
     "text": [
      "     City  Year  AvgMaxTemp\n",
      "0  Zurich  2014       14.83\n",
      "1  Zurich  2015       14.78\n",
      "2  Zurich  2016       13.97\n",
      "3  Zurich  2017       14.46\n",
      "4  Zurich  2018       15.89\n"
     ]
    }
   ],
   "source": [
    "import pandas as pd\n",
    "import sqlite3\n",
    "\n",
    "# Connect to SQLite\n",
    "conn = sqlite3.connect(\"../climate_data.db\")\n",
    "df = pd.read_sql_query(\"SELECT * FROM avg_temperatures\", conn)\n",
    "conn.close()\n",
    "\n",
    "# Initial preview\n",
    "print(df.head())\n"
   ]
  },
  {
   "cell_type": "markdown",
   "id": "ecda21af",
   "metadata": {},
   "source": [
    "Checking data types"
   ]
  },
  {
   "cell_type": "code",
   "execution_count": 18,
   "id": "903a6ed5",
   "metadata": {},
   "outputs": [
    {
     "name": "stdout",
     "output_type": "stream",
     "text": [
      "City           object\n",
      "Year            int64\n",
      "AvgMaxTemp    float64\n",
      "dtype: object\n"
     ]
    }
   ],
   "source": [
    "print(df.dtypes)"
   ]
  },
  {
   "cell_type": "markdown",
   "id": "de418c91",
   "metadata": {},
   "source": [
    "Cleaning"
   ]
  },
  {
   "cell_type": "code",
   "execution_count": 19,
   "id": "7a29fcc4",
   "metadata": {},
   "outputs": [
    {
     "name": "stdout",
     "output_type": "stream",
     "text": [
      "City          0\n",
      "Year          0\n",
      "AvgMaxTemp    0\n",
      "dtype: int64\n"
     ]
    }
   ],
   "source": [
    "# Check for nulls\n",
    "print(df.isnull().sum())\n",
    "\n",
    "# Drop missing data if any\n",
    "df.dropna(inplace=True)\n",
    "\n",
    "# Remove duplicates if any\n",
    "df.drop_duplicates(inplace=True)\n"
   ]
  },
  {
   "cell_type": "markdown",
   "id": "f98f3470",
   "metadata": {},
   "source": [
    "Regex"
   ]
  },
  {
   "cell_type": "code",
   "execution_count": 20,
   "id": "1ef6b27f",
   "metadata": {},
   "outputs": [],
   "source": [
    "import re\n",
    "\n",
    "# Simulate string type\n",
    "df[\"AvgMaxTemp\"] = df[\"AvgMaxTemp\"].astype(str)\n",
    "\n",
    "# Extract numbers using regex\n",
    "df[\"AvgMaxTemp\"] = df[\"AvgMaxTemp\"].str.extract(r\"([-+]?\\d*\\.\\d+|\\d+)\").astype(float)\n"
   ]
  },
  {
   "cell_type": "markdown",
   "id": "1b298cf1",
   "metadata": {},
   "source": [
    "Save Data"
   ]
  },
  {
   "cell_type": "code",
   "execution_count": 21,
   "id": "b082fd25",
   "metadata": {},
   "outputs": [],
   "source": [
    "conn = sqlite3.connect(\"../climate_data.db\")\n",
    "df.to_sql(\"avg_temperatures_cleaned\", conn, if_exists=\"replace\", index=False)\n",
    "conn.close()\n"
   ]
  }
 ],
 "metadata": {
  "kernelspec": {
   "display_name": "Python 3",
   "language": "python",
   "name": "python3"
  },
  "language_info": {
   "codemirror_mode": {
    "name": "ipython",
    "version": 3
   },
   "file_extension": ".py",
   "mimetype": "text/x-python",
   "name": "python",
   "nbconvert_exporter": "python",
   "pygments_lexer": "ipython3",
   "version": "3.12.1"
  }
 },
 "nbformat": 4,
 "nbformat_minor": 5
}
