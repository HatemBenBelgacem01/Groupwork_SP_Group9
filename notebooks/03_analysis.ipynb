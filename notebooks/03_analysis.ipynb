{
 "cells": [
  {
   "cell_type": "markdown",
   "id": "3a5e75e3",
   "metadata": {},
   "source": [
    "Load Data"
   ]
  },
  {
   "cell_type": "code",
   "execution_count": 2,
   "id": "0e85060a",
   "metadata": {},
   "outputs": [
    {
     "name": "stdout",
     "output_type": "stream",
     "text": [
      "     City  Year  AvgMaxTemp\n",
      "0  Zurich  2014       14.83\n",
      "1  Zurich  2015       14.78\n",
      "2  Zurich  2016       13.97\n",
      "3  Zurich  2017       14.46\n",
      "4  Zurich  2018       15.89\n",
      "<class 'pandas.core.frame.DataFrame'>\n",
      "RangeIndex: 15 entries, 0 to 14\n",
      "Data columns (total 3 columns):\n",
      " #   Column      Non-Null Count  Dtype  \n",
      "---  ------      --------------  -----  \n",
      " 0   City        15 non-null     object \n",
      " 1   Year        15 non-null     int64  \n",
      " 2   AvgMaxTemp  15 non-null     float64\n",
      "dtypes: float64(1), int64(1), object(1)\n",
      "memory usage: 492.0+ bytes\n",
      "None\n"
     ]
    }
   ],
   "source": [
    "import pandas as pd\n",
    "import sqlite3\n",
    "\n",
    "conn = sqlite3.connect(\"../climate_data.db\")\n",
    "df = pd.read_sql_query(\"SELECT * FROM avg_temperatures_cleaned\", conn)\n",
    "conn.close()\n",
    "\n",
    "print(df.head())\n",
    "print(df.info())\n"
   ]
  },
  {
   "cell_type": "markdown",
   "id": "198b6fec",
   "metadata": {},
   "source": [
    "Trend Analysis per City"
   ]
  },
  {
   "cell_type": "code",
   "execution_count": 3,
   "id": "99b6990c",
   "metadata": {},
   "outputs": [
    {
     "name": "stdout",
     "output_type": "stream",
     "text": [
      "Zurich:\n",
      "  Slope = 0.180\n",
      "  p-value = 0.5009\n",
      "  R² = 0.163\n",
      "\n",
      "Rome:\n",
      "  Slope = 0.370\n",
      "  p-value = 0.0742\n",
      "  R² = 0.708\n",
      "\n",
      "London:\n",
      "  Slope = 0.137\n",
      "  p-value = 0.4403\n",
      "  R² = 0.208\n",
      "\n"
     ]
    }
   ],
   "source": [
    "from scipy.stats import linregress\n",
    "\n",
    "for city in df[\"City\"].unique():\n",
    "    df_city = df[df[\"City\"] == city].copy()\n",
    "\n",
    "    # Clean and check types\n",
    "    df_city = df_city.dropna(subset=[\"Year\", \"AvgMaxTemp\"])\n",
    "    df_city[\"Year\"] = pd.to_numeric(df_city[\"Year\"], errors=\"coerce\")\n",
    "    df_city[\"AvgMaxTemp\"] = pd.to_numeric(df_city[\"AvgMaxTemp\"], errors=\"coerce\")\n",
    "    df_city = df_city.dropna()\n",
    "\n",
    "    # Make sure there's enough data\n",
    "    if len(df_city) < 2:\n",
    "        print(f\"{city}: Not enough data for regression.\\n\")\n",
    "        continue\n",
    "\n",
    "    try:\n",
    "        slope, intercept, r_value, p_value, std_err = linregress(\n",
    "            df_city[\"Year\"], df_city[\"AvgMaxTemp\"]\n",
    "        )\n",
    "\n",
    "        print(f\"{city}:\")\n",
    "        print(f\"  Slope = {slope:.3f}\")\n",
    "        print(f\"  p-value = {p_value:.4f}\")\n",
    "        print(f\"  R² = {r_value**2:.3f}\\n\")\n",
    "    except Exception as e:\n",
    "        print(f\"{city}: Regression failed – {e}\")\n"
   ]
  },
  {
   "cell_type": "markdown",
   "id": "bf324d56",
   "metadata": {},
   "source": [
    "Comparision"
   ]
  },
  {
   "cell_type": "code",
   "execution_count": 7,
   "id": "2e945557",
   "metadata": {},
   "outputs": [
    {
     "name": "stdout",
     "output_type": "stream",
     "text": [
      "T-test Zurich vs. Rome:\n",
      "  t-statistic = -14.257, p-value = 0.000000571082955\n"
     ]
    }
   ],
   "source": [
    "from scipy.stats import ttest_ind\n",
    "\n",
    "city1 = \"Zurich\"\n",
    "city2 = \"Rome\"\n",
    "\n",
    "temps1 = df[df[\"City\"] == city1][\"AvgMaxTemp\"]\n",
    "temps2 = df[df[\"City\"] == city2][\"AvgMaxTemp\"]\n",
    "\n",
    "t_stat, p = ttest_ind(temps1, temps2)\n",
    "\n",
    "print(f\"T-test {city1} vs. {city2}:\")\n",
    "print(f\"  t-statistic = {t_stat:.3f}, p-value = {p:.15f}\")\n"
   ]
  },
  {
   "cell_type": "markdown",
   "id": "f9978807",
   "metadata": {},
   "source": [
    "Summary Table"
   ]
  },
  {
   "cell_type": "code",
   "execution_count": 8,
   "id": "4e182575",
   "metadata": {},
   "outputs": [
    {
     "name": "stdout",
     "output_type": "stream",
     "text": [
      "     City  Slope   p-value        R²\n",
      "1    Rome  0.370  0.074167  0.707523\n",
      "2  London  0.137  0.440308  0.207852\n",
      "0  Zurich  0.180  0.500893  0.162576\n"
     ]
    }
   ],
   "source": [
    "results = []\n",
    "\n",
    "for city in df[\"City\"].unique():\n",
    "    df_city = df[df[\"City\"] == city]\n",
    "    slope, intercept, r, p, _ = linregress(df_city[\"Year\"], df_city[\"AvgMaxTemp\"])\n",
    "    results.append({\"City\": city, \"Slope\": slope, \"p-value\": p, \"R²\": r**2})\n",
    "\n",
    "df_results = pd.DataFrame(results)\n",
    "print(df_results.sort_values(\"p-value\"))\n"
   ]
  }
 ],
 "metadata": {
  "kernelspec": {
   "display_name": "Python 3",
   "language": "python",
   "name": "python3"
  },
  "language_info": {
   "codemirror_mode": {
    "name": "ipython",
    "version": 3
   },
   "file_extension": ".py",
   "mimetype": "text/x-python",
   "name": "python",
   "nbconvert_exporter": "python",
   "pygments_lexer": "ipython3",
   "version": "3.12.1"
  }
 },
 "nbformat": 4,
 "nbformat_minor": 5
}
