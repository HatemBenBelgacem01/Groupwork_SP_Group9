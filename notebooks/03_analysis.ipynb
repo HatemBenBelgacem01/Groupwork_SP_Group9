{
 "cells": [
  {
   "cell_type": "markdown",
   "id": "3a5e75e3",
   "metadata": {},
   "source": [
    "Load Data"
   ]
  },
  {
   "cell_type": "code",
   "execution_count": 1,
   "id": "0e85060a",
   "metadata": {},
   "outputs": [
    {
     "name": "stdout",
     "output_type": "stream",
     "text": [
      "     City  Year  AvgMaxTemp\n",
      "0  Zurich  2014       14.83\n",
      "1  Zurich  2015       14.78\n",
      "2  Zurich  2016       13.97\n",
      "3  Zurich  2017       14.46\n",
      "4  Zurich  2018       15.89\n",
      "<class 'pandas.core.frame.DataFrame'>\n",
      "RangeIndex: 60 entries, 0 to 59\n",
      "Data columns (total 3 columns):\n",
      " #   Column      Non-Null Count  Dtype  \n",
      "---  ------      --------------  -----  \n",
      " 0   City        60 non-null     object \n",
      " 1   Year        60 non-null     int64  \n",
      " 2   AvgMaxTemp  60 non-null     float64\n",
      "dtypes: float64(1), int64(1), object(1)\n",
      "memory usage: 1.5+ KB\n",
      "None\n"
     ]
    }
   ],
   "source": [
    "import pandas as pd\n",
    "import sqlite3\n",
    "\n",
    "conn = sqlite3.connect(\"../climate_data.db\")\n",
    "df = pd.read_sql_query(\"SELECT * FROM avg_temperatures_cleaned\", conn)\n",
    "conn.close()\n",
    "\n",
    "print(df.head())\n",
    "print(df.info())\n"
   ]
  },
  {
   "cell_type": "markdown",
   "id": "198b6fec",
   "metadata": {},
   "source": [
    "Trend Analysis per City"
   ]
  },
  {
   "cell_type": "code",
   "execution_count": 2,
   "id": "99b6990c",
   "metadata": {},
   "outputs": [
    {
     "name": "stdout",
     "output_type": "stream",
     "text": [
      "Zurich:\n",
      "  Slope = 0.115\n",
      "  p-value = 0.2042\n",
      "  R² = 0.193\n",
      "\n",
      "Geneva:\n",
      "  Slope = 0.180\n",
      "  p-value = 0.0698\n",
      "  R² = 0.354\n",
      "\n",
      "Bern:\n",
      "  Slope = 0.211\n",
      "  p-value = 0.0428\n",
      "  R² = 0.420\n",
      "\n",
      "Berlin:\n",
      "  Slope = 0.064\n",
      "  p-value = 0.4631\n",
      "  R² = 0.069\n",
      "\n",
      "Rome:\n",
      "  Slope = 0.238\n",
      "  p-value = 0.0017\n",
      "  R² = 0.729\n",
      "\n",
      "London:\n",
      "  Slope = 0.120\n",
      "  p-value = 0.0695\n",
      "  R² = 0.354\n",
      "\n"
     ]
    }
   ],
   "source": [
    "from scipy.stats import linregress\n",
    "\n",
    "for city in df[\"City\"].unique():\n",
    "    df_city = df[df[\"City\"] == city].copy()\n",
    "\n",
    "    # Clean and check types\n",
    "    df_city = df_city.dropna(subset=[\"Year\", \"AvgMaxTemp\"])\n",
    "    df_city[\"Year\"] = pd.to_numeric(df_city[\"Year\"], errors=\"coerce\")\n",
    "    df_city[\"AvgMaxTemp\"] = pd.to_numeric(df_city[\"AvgMaxTemp\"], errors=\"coerce\")\n",
    "    df_city = df_city.dropna()\n",
    "\n",
    "    # Make sure there's enough data\n",
    "    if len(df_city) < 2:\n",
    "        print(f\"{city}: Not enough data for regression.\\n\")\n",
    "        continue\n",
    "\n",
    "    try:\n",
    "        slope, intercept, r_value, p_value, std_err = linregress(\n",
    "            df_city[\"Year\"], df_city[\"AvgMaxTemp\"]\n",
    "        )\n",
    "\n",
    "        print(f\"{city}:\")\n",
    "        print(f\"  Slope = {slope:.3f}\")\n",
    "        print(f\"  p-value = {p_value:.4f}\")\n",
    "        print(f\"  R² = {r_value**2:.3f}\\n\")\n",
    "    except Exception as e:\n",
    "        print(f\"{city}: Regression failed – {e}\")\n"
   ]
  },
  {
   "cell_type": "markdown",
   "id": "bf324d56",
   "metadata": {},
   "source": [
    "Comparision"
   ]
  },
  {
   "cell_type": "code",
   "execution_count": 3,
   "id": "2e945557",
   "metadata": {},
   "outputs": [
    {
     "name": "stdout",
     "output_type": "stream",
     "text": [
      "T-test Zurich vs. Rome:\n",
      "  t-statistic = -18.166, p-value = 0.0000\n"
     ]
    }
   ],
   "source": [
    "from scipy.stats import ttest_ind\n",
    "\n",
    "city1 = \"Zurich\"\n",
    "city2 = \"Rome\"\n",
    "\n",
    "temps1 = df[df[\"City\"] == city1][\"AvgMaxTemp\"]\n",
    "temps2 = df[df[\"City\"] == city2][\"AvgMaxTemp\"]\n",
    "\n",
    "t_stat, p = ttest_ind(temps1, temps2)\n",
    "\n",
    "print(f\"T-test {city1} vs. {city2}:\")\n",
    "print(f\"  t-statistic = {t_stat:.3f}, p-value = {p:.4f}\")\n"
   ]
  },
  {
   "cell_type": "markdown",
   "id": "f9978807",
   "metadata": {},
   "source": [
    "Summary Table"
   ]
  },
  {
   "cell_type": "code",
   "execution_count": 4,
   "id": "4e182575",
   "metadata": {},
   "outputs": [
    {
     "name": "stdout",
     "output_type": "stream",
     "text": [
      "     City     Slope   p-value        R²\n",
      "4    Rome  0.238000  0.001676  0.728709\n",
      "2    Bern  0.210909  0.042783  0.419794\n",
      "5  London  0.120121  0.069527  0.354164\n",
      "1  Geneva  0.179515  0.069784  0.353645\n",
      "0  Zurich  0.115152  0.204215  0.192818\n",
      "3  Berlin  0.063939  0.463081  0.069102\n"
     ]
    }
   ],
   "source": [
    "results = []\n",
    "\n",
    "for city in df[\"City\"].unique():\n",
    "    df_city = df[df[\"City\"] == city]\n",
    "    slope, intercept, r, p, _ = linregress(df_city[\"Year\"], df_city[\"AvgMaxTemp\"])\n",
    "    results.append({\"City\": city, \"Slope\": slope, \"p-value\": p, \"R²\": r**2})\n",
    "\n",
    "df_results = pd.DataFrame(results)\n",
    "print(df_results.sort_values(\"p-value\"))\n"
   ]
  }
 ],
 "metadata": {
  "kernelspec": {
   "display_name": "Python 3",
   "language": "python",
   "name": "python3"
  },
  "language_info": {
   "codemirror_mode": {
    "name": "ipython",
    "version": 3
   },
   "file_extension": ".py",
   "mimetype": "text/x-python",
   "name": "python",
   "nbconvert_exporter": "python",
   "pygments_lexer": "ipython3",
   "version": "3.12.1"
  }
 },
 "nbformat": 4,
 "nbformat_minor": 5
}
