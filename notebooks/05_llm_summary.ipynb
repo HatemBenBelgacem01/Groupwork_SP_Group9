{
 "cells": [
  {
   "cell_type": "markdown",
   "id": "51181194",
   "metadata": {},
   "source": [
    "Setup and Auth"
   ]
  },
  {
   "cell_type": "code",
   "execution_count": 2,
   "id": "abb9a3e7",
   "metadata": {},
   "outputs": [
    {
     "name": "stderr",
     "output_type": "stream",
     "text": [
      "/usr/local/python/3.12.1/lib/python3.12/site-packages/tqdm/auto.py:21: TqdmWarning: IProgress not found. Please update jupyter and ipywidgets. See https://ipywidgets.readthedocs.io/en/stable/user_install.html\n",
      "  from .autonotebook import tqdm as notebook_tqdm\n"
     ]
    }
   ],
   "source": [
    "from transformers import pipeline\n",
    "from huggingface_hub import login\n",
    "from dotenv import load_dotenv\n",
    "import os\n",
    "\n",
    "# Load token from .env\n",
    "load_dotenv()\n",
    "login(os.getenv(\"HF_API_KEY\"))"
   ]
  },
  {
   "cell_type": "markdown",
   "id": "647dc8c7",
   "metadata": {},
   "source": [
    "Load Analysis Data"
   ]
  },
  {
   "cell_type": "code",
   "execution_count": 3,
   "id": "30e355e6",
   "metadata": {},
   "outputs": [
    {
     "name": "stdout",
     "output_type": "stream",
     "text": [
      "From 2014 to 2023, Rome experienced a warming trend. The average maximum temperature increased from 20.4°C to 21.7°C. The trend slope was 0.370 with a p-value of 0.0742, indicating no significant trend.\n"
     ]
    }
   ],
   "source": [
    "import pandas as pd\n",
    "import sqlite3\n",
    "from scipy.stats import linregress\n",
    "\n",
    "conn = sqlite3.connect(\"../climate_data.db\")\n",
    "df = pd.read_sql_query(\"SELECT * FROM avg_temperatures_cleaned\", conn)\n",
    "conn.close()\n",
    "\n",
    "# Choose one city as example\n",
    "city = \"Rome\"\n",
    "df_city = df[df[\"City\"] == city]\n",
    "\n",
    "slope, intercept, r, p, _ = linregress(df_city[\"Year\"], df_city[\"AvgMaxTemp\"])\n",
    "\n",
    "text = (\n",
    "    f\"From 2014 to 2023, {city} experienced a warming trend. \"\n",
    "    f\"The average maximum temperature increased from {df_city['AvgMaxTemp'].iloc[0]:.1f}°C \"\n",
    "    f\"to {df_city['AvgMaxTemp'].iloc[-1]:.1f}°C. \"\n",
    "    f\"The trend slope was {slope:.3f} with a p-value of {p:.4f}, indicating \"\n",
    "    f\"{'statistical significance' if p < 0.05 else 'no significant trend'}.\"\n",
    ")\n",
    "print(text)\n"
   ]
  },
  {
   "cell_type": "markdown",
   "id": "fd7fc9bd",
   "metadata": {},
   "source": [
    "Summary"
   ]
  },
  {
   "cell_type": "code",
   "execution_count": 6,
   "id": "ab503e00",
   "metadata": {},
   "outputs": [
    {
     "name": "stderr",
     "output_type": "stream",
     "text": [
      "Device set to use cpu\n"
     ]
    },
    {
     "name": "stdout",
     "output_type": "stream",
     "text": [
      "🔎 Summary:\n",
      " Zurich experienced a warming trend from 2014 to 2023 . The average max temp increased from 14.8°C to 15.9°C .\n"
     ]
    }
   ],
   "source": [
    "summarizer = pipeline(\"summarization\", model=\"sshleifer/distilbart-cnn-12-6\")\n",
    "\n",
    "summary = summarizer(text, max_length=50, min_length=20, do_sample=False)\n",
    "\n",
    "print(\"🔎 Summary:\")\n",
    "print(summary[0][\"summary_text\"])\n"
   ]
  },
  {
   "cell_type": "markdown",
   "id": "25c88b0f",
   "metadata": {},
   "source": [
    "Summary for all cities"
   ]
  },
  {
   "cell_type": "code",
   "execution_count": 7,
   "id": "a891976e",
   "metadata": {},
   "outputs": [
    {
     "name": "stdout",
     "output_type": "stream",
     "text": [
      "\n",
      "📍 Zurich Summary:\n",
      " Zurich experienced a warming trend from 2014 to 2023 . The average max temp increased from 14.8°C to 15.9°C .\n",
      "\n",
      "📍 Rome Summary:\n",
      " Rome experienced a warming trend from 2014 to 2023 . The average max temp increased from 20.4°C to 21.7°C . Slope = 0.370, p-value = 0 .0742. Slope\n",
      "\n",
      "📍 London Summary:\n",
      " From 2014 to 2023, London experienced a warming trend . The average max temp increased from 14.9°C to 15.4°C . Slope = 0.137, p-value = 0 .4403. Sl\n"
     ]
    }
   ],
   "source": [
    "for city in df[\"City\"].unique():\n",
    "    df_city = df[df[\"City\"] == city]\n",
    "    slope, intercept, r, p, _ = linregress(df_city[\"Year\"], df_city[\"AvgMaxTemp\"])\n",
    "\n",
    "    text = (\n",
    "        f\"From 2014 to 2023, {city} experienced a warming trend. \"\n",
    "        f\"The average max temp increased from {df_city['AvgMaxTemp'].iloc[0]:.1f}°C \"\n",
    "        f\"to {df_city['AvgMaxTemp'].iloc[-1]:.1f}°C. \"\n",
    "        f\"Slope = {slope:.3f}, p-value = {p:.4f}. \"\n",
    "        f\"This trend is {'statistically significant' if p < 0.05 else 'not statistically significant'}.\"\n",
    "    )\n",
    "\n",
    "    summary = summarizer(text, max_length=50, min_length=20, do_sample=False)\n",
    "    print(f\"\\n📍 {city} Summary:\\n{summary[0]['summary_text']}\")\n"
   ]
  }
 ],
 "metadata": {
  "kernelspec": {
   "display_name": "Python 3",
   "language": "python",
   "name": "python3"
  },
  "language_info": {
   "codemirror_mode": {
    "name": "ipython",
    "version": 3
   },
   "file_extension": ".py",
   "mimetype": "text/x-python",
   "name": "python",
   "nbconvert_exporter": "python",
   "pygments_lexer": "ipython3",
   "version": "3.12.1"
  }
 },
 "nbformat": 4,
 "nbformat_minor": 5
}
