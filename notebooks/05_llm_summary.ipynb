{
 "cells": [
  {
   "cell_type": "markdown",
   "id": "51181194",
   "metadata": {},
   "source": [
    "Setup and Auth"
   ]
  },
  {
   "cell_type": "code",
   "execution_count": 1,
   "id": "abb9a3e7",
   "metadata": {},
   "outputs": [
    {
     "ename": "ModuleNotFoundError",
     "evalue": "No module named 'transformers'",
     "output_type": "error",
     "traceback": [
      "\u001b[31m---------------------------------------------------------------------------\u001b[39m",
      "\u001b[31mModuleNotFoundError\u001b[39m                       Traceback (most recent call last)",
      "\u001b[36mCell\u001b[39m\u001b[36m \u001b[39m\u001b[32mIn[1]\u001b[39m\u001b[32m, line 1\u001b[39m\n\u001b[32m----> \u001b[39m\u001b[32m1\u001b[39m \u001b[38;5;28;01mfrom\u001b[39;00m\u001b[38;5;250m \u001b[39m\u001b[34;01mtransformers\u001b[39;00m\u001b[38;5;250m \u001b[39m\u001b[38;5;28;01mimport\u001b[39;00m pipeline\n\u001b[32m      2\u001b[39m \u001b[38;5;28;01mfrom\u001b[39;00m\u001b[38;5;250m \u001b[39m\u001b[34;01mhuggingface_hub\u001b[39;00m\u001b[38;5;250m \u001b[39m\u001b[38;5;28;01mimport\u001b[39;00m login\n\u001b[32m      3\u001b[39m \u001b[38;5;28;01mfrom\u001b[39;00m\u001b[38;5;250m \u001b[39m\u001b[34;01mdotenv\u001b[39;00m\u001b[38;5;250m \u001b[39m\u001b[38;5;28;01mimport\u001b[39;00m load_dotenv\n",
      "\u001b[31mModuleNotFoundError\u001b[39m: No module named 'transformers'"
     ]
    }
   ],
   "source": [
    "from transformers import pipeline\n",
    "from huggingface_hub import login\n",
    "from dotenv import load_dotenv\n",
    "import os\n",
    "\n",
    "# Load token from .env\n",
    "load_dotenv()\n",
    "login(os.getenv(\"HF_API_KEY\"))"
   ]
  },
  {
   "cell_type": "markdown",
   "id": "647dc8c7",
   "metadata": {},
   "source": [
    "Load Analysis Data"
   ]
  },
  {
   "cell_type": "code",
   "execution_count": 2,
   "id": "30e355e6",
   "metadata": {},
   "outputs": [
    {
     "name": "stdout",
     "output_type": "stream",
     "text": [
      "From 2014 to 2023, Rome experienced a warming trend. The average maximum temperature increased from 20.4°C to 22.4°C. The trend slope was 0.238 with a p-value of 0.0017, indicating statistical significance.\n"
     ]
    }
   ],
   "source": [
    "import pandas as pd\n",
    "import sqlite3\n",
    "from scipy.stats import linregress\n",
    "\n",
    "conn = sqlite3.connect(\"../climate_data.db\")\n",
    "df = pd.read_sql_query(\"SELECT * FROM avg_temperatures_cleaned\", conn)\n",
    "conn.close()\n",
    "\n",
    "# Choose one city as example\n",
    "city = \"Rome\"\n",
    "df_city = df[df[\"City\"] == city]\n",
    "\n",
    "slope, intercept, r, p, _ = linregress(df_city[\"Year\"], df_city[\"AvgMaxTemp\"])\n",
    "\n",
    "text = (\n",
    "    f\"From 2014 to 2023, {city} experienced a warming trend. \"\n",
    "    f\"The average maximum temperature increased from {df_city['AvgMaxTemp'].iloc[0]:.1f}°C \"\n",
    "    f\"to {df_city['AvgMaxTemp'].iloc[-1]:.1f}°C. \"\n",
    "    f\"The trend slope was {slope:.3f} with a p-value of {p:.4f}, indicating \"\n",
    "    f\"{'statistical significance' if p < 0.05 else 'no significant trend'}.\"\n",
    ")\n",
    "print(text)\n"
   ]
  },
  {
   "cell_type": "markdown",
   "id": "fd7fc9bd",
   "metadata": {},
   "source": [
    "Summary"
   ]
  },
  {
   "cell_type": "code",
   "execution_count": 3,
   "id": "ab503e00",
   "metadata": {},
   "outputs": [
    {
     "name": "stderr",
     "output_type": "stream",
     "text": [
      "Device set to use cpu\n",
      "Your max_length is set to 60, but your input_length is only 54. Since this is a summarization task, where outputs shorter than the input are typically wanted, you might consider decreasing max_length manually, e.g. summarizer('...', max_length=27)\n"
     ]
    },
    {
     "name": "stdout",
     "output_type": "stream",
     "text": [
      "🔎 Summary:\n",
      " Rome experienced a warming trend from 2014 to 2023 . The average maximum temperature increased from 20.4°C to 22°C . The trend slope was 0.238 with a p-value of 0.0017, indicating statistical significance .\n"
     ]
    }
   ],
   "source": [
    "summarizer = pipeline(\"summarization\", model=\"sshleifer/distilbart-cnn-12-6\")\n",
    "\n",
    "summary = summarizer(text, max_length=60, min_length=20, do_sample=False)\n",
    "\n",
    "print(\"🔎 Summary:\")\n",
    "print(summary[0][\"summary_text\"])\n"
   ]
  },
  {
   "cell_type": "markdown",
   "id": "25c88b0f",
   "metadata": {},
   "source": [
    "Summary for all cities"
   ]
  },
  {
   "cell_type": "code",
   "execution_count": 4,
   "id": "a891976e",
   "metadata": {},
   "outputs": [
    {
     "name": "stderr",
     "output_type": "stream",
     "text": [
      "Your max_length is set to 60, but your input_length is only 55. Since this is a summarization task, where outputs shorter than the input are typically wanted, you might consider decreasing max_length manually, e.g. summarizer('...', max_length=27)\n",
      "Your max_length is set to 60, but your input_length is only 55. Since this is a summarization task, where outputs shorter than the input are typically wanted, you might consider decreasing max_length manually, e.g. summarizer('...', max_length=27)\n"
     ]
    },
    {
     "name": "stdout",
     "output_type": "stream",
     "text": [
      "\n",
      "📍 Zurich Summary:\n",
      " Zurich experienced a warming trend from 2014 to 2023 . The average max temp increased from 14.8°C to 15.8 °C . Slope = 0.115, p-value = 0 .2042. This trend is not statistically significant .\n"
     ]
    },
    {
     "name": "stderr",
     "output_type": "stream",
     "text": [
      "Your max_length is set to 60, but your input_length is only 54. Since this is a summarization task, where outputs shorter than the input are typically wanted, you might consider decreasing max_length manually, e.g. summarizer('...', max_length=27)\n"
     ]
    },
    {
     "name": "stdout",
     "output_type": "stream",
     "text": [
      "\n",
      "📍 Geneva Summary:\n",
      " From 2014 to 2023, Geneva experienced a warming trend . The average max temp increased from 15.2°C to 17.0°C . Slope = 0.180, p-value= 0.0698. This trend is not statistically significant .\n"
     ]
    },
    {
     "name": "stderr",
     "output_type": "stream",
     "text": [
      "Your max_length is set to 60, but your input_length is only 56. Since this is a summarization task, where outputs shorter than the input are typically wanted, you might consider decreasing max_length manually, e.g. summarizer('...', max_length=28)\n"
     ]
    },
    {
     "name": "stdout",
     "output_type": "stream",
     "text": [
      "\n",
      "📍 Bern Summary:\n",
      " Bern experienced a warming trend from 2014 to 2023 . The average max temp increased from 13.7°C to 15.6°C . This trend is statistically significant .\n"
     ]
    },
    {
     "name": "stderr",
     "output_type": "stream",
     "text": [
      "Your max_length is set to 60, but your input_length is only 54. Since this is a summarization task, where outputs shorter than the input are typically wanted, you might consider decreasing max_length manually, e.g. summarizer('...', max_length=27)\n"
     ]
    },
    {
     "name": "stdout",
     "output_type": "stream",
     "text": [
      "\n",
      "📍 Berlin Summary:\n",
      " From 2014 to 2023, Berlin experienced a warming trend . The average max temp increased from 14.7°C to 15.1°C . Slope = 0.064, p-value= 0.4631. This trend is not statistically significant .\n"
     ]
    },
    {
     "name": "stderr",
     "output_type": "stream",
     "text": [
      "Your max_length is set to 60, but your input_length is only 55. Since this is a summarization task, where outputs shorter than the input are typically wanted, you might consider decreasing max_length manually, e.g. summarizer('...', max_length=27)\n"
     ]
    },
    {
     "name": "stdout",
     "output_type": "stream",
     "text": [
      "\n",
      "📍 Rome Summary:\n",
      " From 2014 to 2023, Rome experienced a warming trend . The average max temp increased from 20.4°C to 22°C . This trend is statistically significant .\n",
      "\n",
      "📍 London Summary:\n",
      " From 2014 to 2023, London experienced a warming trend . The average max temp increased from 14.9°C to 15.5°C . Slope = 0.120, p-value = 0 .0695. This trend is not statistically significant .\n"
     ]
    }
   ],
   "source": [
    "for city in df[\"City\"].unique():\n",
    "    df_city = df[df[\"City\"] == city]\n",
    "    slope, intercept, r, p, _ = linregress(df_city[\"Year\"], df_city[\"AvgMaxTemp\"])\n",
    "\n",
    "    text = (\n",
    "        f\"From 2014 to 2023, {city} experienced a warming trend. \"\n",
    "        f\"The average max temp increased from {df_city['AvgMaxTemp'].iloc[0]:.1f}°C \"\n",
    "        f\"to {df_city['AvgMaxTemp'].iloc[-1]:.1f}°C. \"\n",
    "        f\"Slope = {slope:.3f}, p-value = {p:.4f}. \"\n",
    "        f\"This trend is {'statistically significant' if p < 0.05 else 'not statistically significant'}.\"\n",
    "    )\n",
    "\n",
    "    summary = summarizer(text, max_length=60, min_length=20, do_sample=False)\n",
    "    print(f\"\\n📍 {city} Summary:\\n{summary[0]['summary_text']}\")\n"
   ]
  }
 ],
 "metadata": {
  "kernelspec": {
   "display_name": "Python 3",
   "language": "python",
   "name": "python3"
  },
  "language_info": {
   "codemirror_mode": {
    "name": "ipython",
    "version": 3
   },
   "file_extension": ".py",
   "mimetype": "text/x-python",
   "name": "python",
   "nbconvert_exporter": "python",
   "pygments_lexer": "ipython3",
   "version": "3.12.1"
  }
 },
 "nbformat": 4,
 "nbformat_minor": 5
}
